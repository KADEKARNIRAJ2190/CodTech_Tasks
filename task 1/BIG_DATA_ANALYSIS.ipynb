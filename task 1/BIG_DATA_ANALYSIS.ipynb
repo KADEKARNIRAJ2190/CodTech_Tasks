{
  "nbformat": 4,
  "nbformat_minor": 0,
  "metadata": {
    "colab": {
      "provenance": []
    },
    "kernelspec": {
      "name": "python3",
      "display_name": "Python 3"
    },
    "language_info": {
      "name": "python"
    }
  },
  "cells": [
    {
      "cell_type": "code",
      "execution_count": 1,
      "metadata": {
        "id": "zqyQBnhvMEQW"
      },
      "outputs": [],
      "source": [
        "from pyspark.sql import SparkSession\n",
        "\n",
        "# Create a Spark session\n",
        "spark = SparkSession.builder.appName(\"Amazon Sales Analysis\").getOrCreate()\n"
      ]
    },
    {
      "cell_type": "code",
      "source": [
        "file_path = \"/content/sample_data/amazon.csv\"  # Change this path to your file location\n",
        "df = spark.read.csv(file_path, header=True, inferSchema=True)\n"
      ],
      "metadata": {
        "id": "tEMSRpY8PB2p"
      },
      "execution_count": 7,
      "outputs": []
    },
    {
      "source": [
        "df.printSchema()  # Show column names and types\n",
        "df.show(5)  # Show first 5 rows\n"
      ],
      "cell_type": "code",
      "metadata": {
        "colab": {
          "base_uri": "https://localhost:8080/"
        },
        "id": "2WXhKBV2QXVz",
        "outputId": "a0e477f2-6354-47fa-e49a-efe7f948cde0"
      },
      "execution_count": 8,
      "outputs": [
        {
          "output_type": "stream",
          "name": "stdout",
          "text": [
            "root\n",
            " |-- product_id: string (nullable = true)\n",
            " |-- product_name: string (nullable = true)\n",
            " |-- category: string (nullable = true)\n",
            " |-- discounted_price: string (nullable = true)\n",
            " |-- actual_price: string (nullable = true)\n",
            " |-- discount_percentage: string (nullable = true)\n",
            " |-- rating: string (nullable = true)\n",
            " |-- rating_count: string (nullable = true)\n",
            " |-- about_product: string (nullable = true)\n",
            " |-- user_id: string (nullable = true)\n",
            " |-- user_name: string (nullable = true)\n",
            " |-- review_id: string (nullable = true)\n",
            " |-- review_title: string (nullable = true)\n",
            " |-- review_content: string (nullable = true)\n",
            " |-- img_link: string (nullable = true)\n",
            " |-- product_link: string (nullable = true)\n",
            "\n",
            "+----------+--------------------+--------------------+----------------+------------+-------------------+------+------------+---------------------+--------------------+--------------------+--------------------+--------------------+--------------------+--------------------+--------------------+\n",
            "|product_id|        product_name|            category|discounted_price|actual_price|discount_percentage|rating|rating_count|        about_product|             user_id|           user_name|           review_id|        review_title|      review_content|            img_link|        product_link|\n",
            "+----------+--------------------+--------------------+----------------+------------+-------------------+------+------------+---------------------+--------------------+--------------------+--------------------+--------------------+--------------------+--------------------+--------------------+\n",
            "|B07JW9H4J1|Wayona Nylon Brai...|Computers&Accesso...|            ₹399|      ₹1,099|                64%|   4.2|      24,269| High Compatibilit...|AG3D6O4STAQKAY2UV...|Manav,Adarsh gupt...|R3HXWT0LRP0NMF,R2...|Satisfied,Chargin...|Looks durable Cha...|https://m.media-a...|https://www.amazo...|\n",
            "|B098NS6PVG|Ambrane Unbreakab...|Computers&Accesso...|            ₹199|        ₹349|                43%|   4.0|      43,994| Compatible with a...|AECPFYFQVRUWC3KGN...|ArdKn,Nirbhay kum...|RGIQEG07R9HS2,R1S...|A Good Braided Ca...|I ordered this ca...|https://m.media-a...|https://www.amazo...|\n",
            "|B096MSW6CT|Sounce Fast Phone...|Computers&Accesso...|            ₹199|      ₹1,899|                90%|   3.9|       7,928|【 Fast Charger& D...|AGU3BBQ2V2DDAMOAK...|Kunal,Himanshu,vi...|R3J3EQQ9TZI5ZJ,R3...|Good speed for ea...|Not quite durable...|https://m.media-a...|https://www.amazo...|\n",
            "|B08HDJ86NZ|boAt Deuce USB 30...|Computers&Accesso...|            ₹329|        ₹699|                53%|   4.2|      94,363| The boAt Deuce US...|AEWAZDZZJLQUYVOVG...|Omkar dhale,JD,HE...|R3EEUZKKK9J36I,R3...|Good product,Good...|Good product,long...|https://m.media-a...|https://www.amazo...|\n",
            "|B08CF3B7N1|Portronics Konnec...|Computers&Accesso...|            ₹154|        ₹399|                61%|   4.2|      16,905| [CHARGE & SYNC FU...|AE3Q6KSUK5P75D5HF...|rahuls6099,Swasat...|R1BP4L2HH9TFUP,R1...|As good as origin...|Bought this inste...|https://m.media-a...|https://www.amazo...|\n",
            "+----------+--------------------+--------------------+----------------+------------+-------------------+------+------------+---------------------+--------------------+--------------------+--------------------+--------------------+--------------------+--------------------+--------------------+\n",
            "only showing top 5 rows\n",
            "\n"
          ]
        }
      ]
    },
    {
      "cell_type": "code",
      "source": [
        "df = df.na.drop()\n"
      ],
      "metadata": {
        "id": "L9aYREG8Qw0R"
      },
      "execution_count": 9,
      "outputs": []
    },
    {
      "cell_type": "code",
      "source": [
        "from pyspark.sql.functions import to_date\n",
        "\n",
        "df.orderBy(\"discount_percentage\", ascending=False).show(10)\n"
      ],
      "metadata": {
        "colab": {
          "base_uri": "https://localhost:8080/"
        },
        "id": "sca3Ex0qRbqX",
        "outputId": "d053e927-60d7-49eb-93ea-d804dbd83f52"
      },
      "execution_count": 11,
      "outputs": [
        {
          "output_type": "stream",
          "name": "stdout",
          "text": [
            "+----------+--------------------+--------------------+--------------------+--------------------+--------------------+--------------------+--------------------+-------------+--------------------+--------------------+--------------------+--------------------+---------------------+--------------------+--------------------+\n",
            "|product_id|        product_name|            category|    discounted_price|        actual_price| discount_percentage|              rating|        rating_count|about_product|             user_id|           user_name|           review_id|        review_title|       review_content|            img_link|        product_link|\n",
            "+----------+--------------------+--------------------+--------------------+--------------------+--------------------+--------------------+--------------------+-------------+--------------------+--------------------+--------------------+--------------------+---------------------+--------------------+--------------------+\n",
            "|B0BLV1GNLN|\"WZATCO Pixel | P...|                  PC|                PS4\"|Electronics|HomeT...|              ₹6,490|              ₹9,990|                 35%|          4.0|                  27|\"💖 [Small Size b...| can be easily pu...| camping or other...|                  USB|   and AV interfaces| pixel projector ...|\n",
            "|B0B2RBP83P|\"Lenovo IdeaPad 3...|         81X800LGIN\"|Computers&Accesso...|             ₹37,247|             ₹59,890|                 38%|                 4.0|          323|\"Processor: 11th ...|                  SD|                SDHC| SDXC)|Camera (Bu...| AF5IDL42LBZCZ7A5Y...|Mb,Amazon Custome...|R2WGS6Q7F9F4Y5,R1...|\n",
            "|B09939XJX8|\"TVARA LCD Writin...| Erasable Reusabl...| Educational and ...|Computers&Accesso...|                ₹354|              ₹1,500|                 76%|          4.0|               1,026|Eye Protection an...|AGKT6MY3UZFPKSYVU...|Kanta Khaksa,SKK,...| R374DNITJO308B,R3...|A good buy!,Good ...|A good distractio...|\n",
            "|B08JMC1988|\"boAt Stone 180 5...| IPX7 & TWS Featu...|Electronics|HomeA...|                ₹999|              ₹2,490|                 60%|                 4.1|       18,331|\"Stone 180 comes ...| Charging Time : ...| get the party st...| anytime with the...| AEJYXUANEWSM2G7VH...|Meghana,Udit nara...|R16I46MPR0NO8S,RC...|\n",
            "|B09YV463SW|\"Fire-Boltt Ninja...|       Sp02 Tracking| Over 100 Cloud b...|Electronics|Weara...|              ₹1,499|              ₹9,999|                 85%|          4.2|              22,638|Fire-Boltt is Ind...|AH2OARRWRYKQNYKCW...|Rahul Singh Rauth...| R2VEHBS4GTI9SH,R5...|Premium looking w...|Its only 4 days s...|\n",
            "|B09YV42QHZ|\"Fire-Boltt Ninja...|       Sp02 Tracking| Over 100 Cloud b...|Electronics|Weara...|              ₹1,499|              ₹7,999|                 81%|          4.2|              22,638|Fire-Boltt is Ind...|AH2OARRWRYKQNYKCW...|Rahul Singh Rauth...| R2VEHBS4GTI9SH,R5...|Premium looking w...|Its only 4 days s...|\n",
            "|B07Z53L5QL|\"ProElite Faux Le...|              Black\"|Computers&Accesso...|                ₹549|              ₹1,499|                 63%|                 4.3|       11,006|\"This Case is Spe...| This Case For Ne...| This Case For Pr...| Bumps and Accide...|  This Case For Ne...|AEZTXYO6KQGB5TJF4...|Neha,Amazon Custo...|\n",
            "|B00N1U7JXM|\"3M Post-it Stick...|           reminders|               study| school and organ...|OfficeProducts|Of...|                 ₹90|                ₹175|          49%|                 4.4|               7,429|\"Material: Paper;...|AFCNMPYF3HBJZ3FYM...| Deepak kumar,Ahsa...|R3JRQ21J8LHK67,R2...|Adhesion,Good pro...|\n",
            "|B0BNV7JM5Y|\"boAt Newly Launc...| Smart Calling wi...|20 Built-In Watch...|  100 + Sports Modes|Menu Personalization|In-Built Games(Ch...|Electronics|Weara...|       ₹2,999|              ₹7,990|                 62%|                 4.1|                 154| Screen Size- Big ...|AEYLB6L333GKGCRGR...|App,Dr. Rinchin,P...|\n",
            "|B0B3RSDSZ3|Fire-Boltt Phoeni...|   120+ Sports Modes| 240*240 PX High ...| Heart Rate Monit...|Electronics|Weara...|              ₹1,999|              ₹9,999|          80%|                 4.3|              27,696|\"Fire-Boltt is In...| steps and much m...| party or date.|【...|            1 Manual|  1 Magnetic Charger|\n",
            "+----------+--------------------+--------------------+--------------------+--------------------+--------------------+--------------------+--------------------+-------------+--------------------+--------------------+--------------------+--------------------+---------------------+--------------------+--------------------+\n",
            "only showing top 10 rows\n",
            "\n"
          ]
        }
      ]
    },
    {
      "cell_type": "code",
      "source": [
        "from pyspark.sql.functions import col\n",
        "from pyspark.sql.types import DoubleType\n",
        "\n",
        "# Cast 'rating' column to DoubleType\n",
        "df = df.withColumn(\"rating\", col(\"rating\").cast(DoubleType()))\n",
        "\n",
        "# Now you can perform the aggregation\n",
        "df.groupBy(\"category\").avg(\"rating\").orderBy(\"avg(rating)\", ascending=False).show()"
      ],
      "metadata": {
        "colab": {
          "base_uri": "https://localhost:8080/"
        },
        "id": "4Yc6AZccTbP8",
        "outputId": "977b42fd-a152-418e-ec63-0bf63548fcb3"
      },
      "execution_count": 13,
      "outputs": [
        {
          "output_type": "stream",
          "name": "stdout",
          "text": [
            "+--------------------+------------------+\n",
            "|            category|       avg(rating)|\n",
            "+--------------------+------------------+\n",
            "|Computers&Accesso...|               4.6|\n",
            "|Computers&Accesso...|               4.5|\n",
            "|Computers&Accesso...|               4.5|\n",
            "|OfficeProducts|Of...|               4.5|\n",
            "|Electronics|Camer...|               4.5|\n",
            "|Electronics|Power...|               4.5|\n",
            "|Home&Kitchen|Kitc...|               4.5|\n",
            "|Electronics|HomeA...|               4.5|\n",
            "|HomeImprovement|E...|               4.5|\n",
            "|Home&Kitchen|Craf...|               4.5|\n",
            "|Electronics|HomeT...|               4.5|\n",
            "|Home&Kitchen|Kitc...|               4.5|\n",
            "|Electronics|Mobil...|4.4714285714285715|\n",
            "|Home&Kitchen|Kitc...|              4.46|\n",
            "|OfficeProducts|Of...|              4.45|\n",
            "|Home&Kitchen|Craf...| 4.433333333333334|\n",
            "|Electronics|Gener...| 4.414285714285714|\n",
            "|Home&Kitchen|Kitc...|               4.4|\n",
            "|Electronics|Acces...|               4.4|\n",
            "|Computers&Accesso...|               4.4|\n",
            "+--------------------+------------------+\n",
            "only showing top 20 rows\n",
            "\n"
          ]
        }
      ]
    },
    {
      "cell_type": "code",
      "source": [
        "df.orderBy(\"rating_count\", ascending=False).show(10)\n"
      ],
      "metadata": {
        "colab": {
          "base_uri": "https://localhost:8080/"
        },
        "id": "EWhNJlsWTz-A",
        "outputId": "1dbb0d01-ed83-43c4-8eaa-c7b17bb33ddd"
      },
      "execution_count": 14,
      "outputs": [
        {
          "output_type": "stream",
          "name": "stdout",
          "text": [
            "+----------+--------------------+--------------------+--------------------+--------------------+--------------------+------+------------+-------------+-------+---------+--------------------+--------------------+---------------------+--------------------+--------------------+\n",
            "|product_id|        product_name|            category|    discounted_price|        actual_price| discount_percentage|rating|rating_count|about_product|user_id|user_name|           review_id|        review_title|       review_content|            img_link|        product_link|\n",
            "+----------+--------------------+--------------------+--------------------+--------------------+--------------------+------+------------+-------------+-------+---------+--------------------+--------------------+---------------------+--------------------+--------------------+\n",
            "|B0B3RRWSF6|Fire-Boltt Phoeni...|   120+ Sports Modes| 240*240 PX High ...| Heart Rate Monit...|Electronics|Weara...|  NULL|      ₹9,999|          80%|    4.3|   27,696|\"Fire-Boltt is In...| steps and much m...| party or date.|【...|            1 Manual|  1 Magnetic Charger|\n",
            "|B0B3RSDSZ3|Fire-Boltt Phoeni...|   120+ Sports Modes| 240*240 PX High ...| Heart Rate Monit...|Electronics|Weara...|  NULL|      ₹9,999|          80%|    4.3|   27,696|\"Fire-Boltt is In...| steps and much m...| party or date.|【...|            1 Manual|  1 Magnetic Charger|\n",
            "|B0B3RS9DNF|Fire-Boltt Phoeni...|   120+ Sports Modes| 240*240 PX High ...| Heart Rate Monit...|Electronics|Weara...|  NULL|      ₹9,999|          80%|    4.3|   27,704|\"Fire-Boltt is In...| steps and much m...| party or date.|【...|            1 Manual|  1 Magnetic Charger|\n",
            "|B0B3RRWSF6|Fire-Boltt Phoeni...|   120+ Sports Modes| 240*240 PX High ...| Heart Rate Monit...|Electronics|Weara...|  NULL|      ₹9,999|          80%|    4.3|   27,709|\"Fire-Boltt is In...| steps and much m...| party or date.|【...|            1 Manual|  1 Magnetic Charger|\n",
            "|B09NC2TY11|\"Noise ColorFit U...| 320x385 px Resol...|    100 Sports Modes| Stock Market Inf...|Electronics|Weara...|  NULL|      ₹5,999|          58%|    4.1|    5,852|\"Bluetooth callin...| right from your ...|  24/7 heart rate ...|      Stress monitor| Sleep monitor an...|\n",
            "|B097R25DP7|\"Noise ColorFit P...|                SpO2|          Heart Rate| Sleep Monitors &...|Electronics|Weara...|  NULL|      ₹4,999|          68%|    4.0|   67,950|[10-day battery]:...|AHECNVXSW6REC5TOG...| Ankita Dwivedi,Ma...|R1NARG7VJ59AD3,R6...|Noise smartwatch,...|\n",
            "|B097R25DP7|\"Noise ColorFit P...|                SpO2|          Heart Rate| Sleep Monitors &...|Electronics|Weara...|  NULL|      ₹4,999|          68%|    4.0|   67,951|[10-day battery]:...|AHECNVXSW6REC5TOG...| Ankita Dwivedi,Ma...|R1NARG7VJ59AD3,R6...|Noise smartwatch,...|\n",
            "|B0BP18W8TM|\"Fire-Boltt Gladi...| Voice Assistant ...| 8 Unique UI Inte...|                SpO2| 24/7 Heart Rate ...|  NULL|      ₹3,999|       ₹9,999|    60%|      4.4|                  73|\"Largest 1.96\"\" D...|  listen to music ...| birthdays or col...| enable all the s...|\n",
            "|B0B2X35B1K|\"Noise ColorFit U...| Premium Metallic...|    100+ Watch Faces|   100+ Sports Modes| Health Suite (Je...|  NULL|      ₹3,999|       ₹6,999|    43%|      4.1|              10,229|BT calling: Exper...| AHN6E6FWRU4KL6CAL...|Shanti Devi,Amol ...|R3PAFFUU229VTJ,R1...|\n",
            "|B0BNXFDTZ2|\"Fire-Boltt Tank ...|     123 Sports Mode|   8 UI Interactions| Built in Speaker...| 7 Days Battery &...|  NULL|      ₹2,999|      ₹11,999|    75%|      4.4|                 768|\"Largest 1.85\"\" D...|  you have the fre...| Monitor your blo...| 24/7 dynamic HR ...|\n",
            "+----------+--------------------+--------------------+--------------------+--------------------+--------------------+------+------------+-------------+-------+---------+--------------------+--------------------+---------------------+--------------------+--------------------+\n",
            "only showing top 10 rows\n",
            "\n"
          ]
        }
      ]
    },
    {
      "cell_type": "code",
      "source": [
        "from pyspark.sql.functions import corr\n",
        "df.select(corr(\"discount_percentage\", \"rating\")).show()\n"
      ],
      "metadata": {
        "colab": {
          "base_uri": "https://localhost:8080/"
        },
        "id": "dWbvi5m6T36l",
        "outputId": "7d5f707b-fe45-451d-aa2f-c9701fdace2d"
      },
      "execution_count": 15,
      "outputs": [
        {
          "output_type": "stream",
          "name": "stdout",
          "text": [
            "+---------------------------------+\n",
            "|corr(discount_percentage, rating)|\n",
            "+---------------------------------+\n",
            "|                             NULL|\n",
            "+---------------------------------+\n",
            "\n"
          ]
        }
      ]
    }
  ]
}