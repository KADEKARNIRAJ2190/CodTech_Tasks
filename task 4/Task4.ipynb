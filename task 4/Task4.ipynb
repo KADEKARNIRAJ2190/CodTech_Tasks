{
  "nbformat": 4,
  "nbformat_minor": 0,
  "metadata": {
    "colab": {
      "provenance": []
    },
    "kernelspec": {
      "name": "python3",
      "display_name": "Python 3"
    },
    "language_info": {
      "name": "python"
    }
  },
  "cells": [
    {
      "cell_type": "code",
      "execution_count": 1,
      "metadata": {
        "id": "u8iv3mbYNQaw"
      },
      "outputs": [],
      "source": [
        "import kagglehub\n",
        "import nltk\n",
        "import pandas as pd\n",
        "from nltk.sentiment.vader import SentimentIntensityAnalyzer\n",
        "import matplotlib.pyplot as plt"
      ]
    },
    {
      "cell_type": "code",
      "source": [
        "# Step 1: Download the Amazon Product Reviews dataset\n",
        "print(\"Downloading dataset...\")\n",
        "dataset_path = kagglehub.dataset_download(\"arhamrumi/amazon-product-reviews\")\n",
        "print(\"Dataset downloaded to:\", dataset_path)"
      ],
      "metadata": {
        "colab": {
          "base_uri": "https://localhost:8080/"
        },
        "id": "Y8t6_4vdNT7-",
        "outputId": "c49bb982-f076-44ff-a4fc-45e7c5cec499"
      },
      "execution_count": 10,
      "outputs": [
        {
          "output_type": "stream",
          "name": "stdout",
          "text": [
            "Downloading dataset...\n",
            "Dataset downloaded to: /root/.cache/kagglehub/datasets/arhamrumi/amazon-product-reviews/versions/1\n"
          ]
        }
      ]
    },
    {
      "cell_type": "code",
      "source": [
        "import os\n",
        "import glob\n",
        "import dask.dataframe as dd"
      ],
      "metadata": {
        "colab": {
          "base_uri": "https://localhost:8080/"
        },
        "id": "2TphLDbiNZyO",
        "outputId": "8217feb7-3896-4e3d-fb6f-9933187622c4"
      },
      "execution_count": 16,
      "outputs": [
        {
          "output_type": "stream",
          "name": "stderr",
          "text": [
            "/usr/local/lib/python3.11/dist-packages/dask/dataframe/__init__.py:42: FutureWarning: \n",
            "Dask dataframe query planning is disabled because dask-expr is not installed.\n",
            "\n",
            "You can install it with `pip install dask[dataframe]` or `conda install dask`.\n",
            "This will raise in a future version.\n",
            "\n",
            "  warnings.warn(msg, FutureWarning)\n"
          ]
        }
      ]
    },
    {
      "cell_type": "code",
      "source": [
        "# Step 2: Check the contents of the dataset directory\n",
        "print(\"Checking contents of the dataset directory...\")\n",
        "print(os.listdir(dataset_path))\n",
        "\n",
        "# Step 3: Find CSV files recursively in the dataset directory\n",
        "csv_files = glob.glob(os.path.join(dataset_path, '**/*.csv'), recursive=True)\n",
        "\n",
        "# Step 4: If CSV files are found, read them using Dask\n",
        "if csv_files:\n",
        "    file_path = csv_files[0]  # Use the first CSV file for example\n",
        "    print(f\"Reading data from: {file_path}\")\n",
        "    df = dd.read_csv(file_path)\n",
        "    # Or read all CSV files (uncomment if you want to read multiple files)\n",
        "    # df = dd.read_csv(csv_files)\n",
        "else:\n",
        "    print(\"No CSV files found in the dataset directory.\")"
      ],
      "metadata": {
        "colab": {
          "base_uri": "https://localhost:8080/"
        },
        "id": "pKN31vwFNe_p",
        "outputId": "9446c19e-90a8-46f1-fce3-f1022622f91a"
      },
      "execution_count": 17,
      "outputs": [
        {
          "output_type": "stream",
          "name": "stdout",
          "text": [
            "Checking contents of the dataset directory...\n",
            "['Reviews.csv']\n",
            "Reading data from: /root/.cache/kagglehub/datasets/arhamrumi/amazon-product-reviews/versions/1/Reviews.csv\n",
            "   Id   ProductId          UserId                      ProfileName  \\\n",
            "0   1  B001E4KFG0  A3SGXH7AUHU8GW                       delmartian   \n",
            "1   2  B00813GRG4  A1D87F6ZCVE5NK                           dll pa   \n",
            "2   3  B000LQOCH0   ABXLMWJIXXAIN  Natalia Corres \"Natalia Corres\"   \n",
            "3   4  B000UA0QIQ  A395BORC6FGVXV                             Karl   \n",
            "4   5  B006K2ZZ7K  A1UQRSCLF8GW1T    Michael D. Bigham \"M. Wassir\"   \n",
            "\n",
            "   HelpfulnessNumerator  HelpfulnessDenominator  Score        Time  \\\n",
            "0                     1                       1      5  1303862400   \n",
            "1                     0                       0      1  1346976000   \n",
            "2                     1                       1      4  1219017600   \n",
            "3                     3                       3      2  1307923200   \n",
            "4                     0                       0      5  1350777600   \n",
            "\n",
            "                 Summary                                               Text  \n",
            "0  Good Quality Dog Food  I have bought several of the Vitality canned d...  \n",
            "1      Not as Advertised  Product arrived labeled as Jumbo Salted Peanut...  \n",
            "2  \"Delight\" says it all  This is a confection that has been around a fe...  \n",
            "3         Cough Medicine  If you are looking for the secret ingredient i...  \n",
            "4            Great taffy  Great taffy at a great price.  There was a wid...  \n"
          ]
        }
      ]
    },
    {
      "cell_type": "code",
      "source": [
        "# Step 6: Download the VADER lexicon for sentiment analysis\n",
        "nltk.download('vader_lexicon')"
      ],
      "metadata": {
        "colab": {
          "base_uri": "https://localhost:8080/"
        },
        "id": "tmpSAlNrNqmZ",
        "outputId": "70e0ff44-0551-4631-b054-18701749c221"
      },
      "execution_count": 26,
      "outputs": [
        {
          "output_type": "stream",
          "name": "stderr",
          "text": [
            "[nltk_data] Downloading package vader_lexicon to /root/nltk_data...\n",
            "[nltk_data]   Package vader_lexicon is already up-to-date!\n"
          ]
        },
        {
          "output_type": "execute_result",
          "data": {
            "text/plain": [
              "True"
            ]
          },
          "metadata": {},
          "execution_count": 26
        }
      ]
    },
    {
      "cell_type": "code",
      "source": [
        "# Step 7: Initialize SentimentIntensityAnalyzer\n",
        "sia = SentimentIntensityAnalyzer()"
      ],
      "metadata": {
        "id": "F03A90_oOzIF"
      },
      "execution_count": 27,
      "outputs": []
    },
    {
      "cell_type": "code",
      "source": [
        "# Step 8: Function to classify sentiment\n",
        "def get_sentiment(text):\n",
        "    sentiment_score = sia.polarity_scores(text)\n",
        "    if sentiment_score['compound'] >= 0.05:\n",
        "        return 'Positive'\n",
        "    elif sentiment_score['compound'] <= -0.05:\n",
        "        return 'Negative'\n",
        "    else:\n",
        "        return 'Neutral'"
      ],
      "metadata": {
        "id": "520UAIw_O17K"
      },
      "execution_count": 28,
      "outputs": []
    },
    {
      "cell_type": "code",
      "source": [
        "# Step 9: Apply sentiment analysis to the 'reviewText' column (modify if the column name is different)\n",
        "df['Sentiment'] = df['Text'].fillna('').apply(get_sentiment, meta=('Text', 'object'))"
      ],
      "metadata": {
        "id": "mlnxiPD5O4J2"
      },
      "execution_count": 24,
      "outputs": []
    },
    {
      "cell_type": "code",
      "source": [
        "df_pandas = df.compute()"
      ],
      "metadata": {
        "id": "ZsoW9HgOO7AJ"
      },
      "execution_count": 30,
      "outputs": []
    },
    {
      "cell_type": "code",
      "source": [
        "# Step 11: Display the first few rows of the DataFrame with Sentiment\n",
        "print(df_pandas[['Text', 'Sentiment']].head())"
      ],
      "metadata": {
        "colab": {
          "base_uri": "https://localhost:8080/"
        },
        "id": "Ii3BzXFnQCk9",
        "outputId": "23db9f2b-5d9f-40d2-bc5a-7e9687a821d5"
      },
      "execution_count": 31,
      "outputs": [
        {
          "output_type": "stream",
          "name": "stdout",
          "text": [
            "                                                Text Sentiment\n",
            "0  I have bought several of the Vitality canned d...  Positive\n",
            "1  Product arrived labeled as Jumbo Salted Peanut...  Negative\n",
            "2  This is a confection that has been around a fe...  Positive\n",
            "3  If you are looking for the secret ingredient i...   Neutral\n",
            "4  Great taffy at a great price.  There was a wid...  Positive\n"
          ]
        }
      ]
    },
    {
      "cell_type": "code",
      "source": [
        "# Step 12: Sentiment Distribution\n",
        "sentiment_counts = df_pandas['Sentiment'].value_counts()\n"
      ],
      "metadata": {
        "id": "S7j695S7QJoq"
      },
      "execution_count": 32,
      "outputs": []
    },
    {
      "cell_type": "code",
      "source": [
        "# Step 13: Visualize Sentiment Distribution\n",
        "plt.figure(figsize=(8, 6))\n",
        "sentiment_counts.plot(kind='bar', color=['green', 'red', 'gray'])\n",
        "plt.title('Sentiment Distribution in Amazon Product Reviews')\n",
        "plt.xlabel('Sentiment')\n",
        "plt.ylabel('Count')\n",
        "plt.xticks(rotation=0)\n",
        "plt.show()\n"
      ],
      "metadata": {
        "colab": {
          "base_uri": "https://localhost:8080/",
          "height": 564
        },
        "id": "nKeqMMLUR3hI",
        "outputId": "0dbc079d-64d0-49ea-8845-4397925cecf5"
      },
      "execution_count": 33,
      "outputs": [
        {
          "output_type": "display_data",
          "data": {
            "text/plain": [
              "<Figure size 800x600 with 1 Axes>"
            ],
            "image/png": "[encoded data removed]"
          },
          "metadata": {}
        }
      ]
    },
    {
      "cell_type": "code",
      "source": [
        "# Step 14: Save the results (optional)\n",
        "df_pandas.to_csv(f\"{dataset_path}/amazon_reviews_with_sentiment.csv\", index=False)"
      ],
      "metadata": {
        "id": "G301G-ShR9dY"
      },
      "execution_count": 34,
      "outputs": []
    },
    {
      "cell_type": "code",
      "source": [],
      "metadata": {
        "id": "-hl23MbXSBg0"
      },
      "execution_count": null,
      "outputs": []
    }
  ]
}